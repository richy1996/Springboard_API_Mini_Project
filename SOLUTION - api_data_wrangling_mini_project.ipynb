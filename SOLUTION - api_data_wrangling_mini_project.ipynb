{
  "cells": [
    {
      "cell_type": "markdown",
      "source": [
        "This exercise will require you to pull some data from https://data.nasdaq.com/ (formerly Quandl API)."
      ],
      "metadata": {
        "id": "b_ERTFd05f-F"
      }
    },
    {
      "cell_type": "markdown",
      "source": [
        "As a first step, you will need to register a free account on the https://data.nasdaq.com/ website."
      ],
      "metadata": {
        "id": "G7fUEkNs5f-I"
      }
    },
    {
      "cell_type": "markdown",
      "source": [
        "After you register, you will be provided with a unique API key, that you should store:\n",
        "\n",
        "*Note*: Use a `.env` file and put your key in there and `python-dotenv` to access it in this notebook.\n",
        "\n",
        "The code below uses a key that was used when generating this project but has since been deleted. Never submit your keys to source control. There is a `.env-example` file in this repository to illusrtate what you need. Copy that to a file called `.env` and use your own api key in that `.env` file. Make sure you also have a `.gitignore` file with a line for `.env` added to it.\n",
        "\n",
        "The standard Python gitignore is [here](https://github.com/github/gitignore/blob/master/Python.gitignore) you can just copy that."
      ],
      "metadata": {
        "id": "SrrybWFG5f-I"
      }
    },
    {
      "cell_type": "code",
      "execution_count": 51,
      "source": [
        "# get api key from your .env file\n",
        "import os\n",
        "from dotenv import load_dotenv\n",
        "\n",
        "load_dotenv()\n",
        "API_KEY = os.getenv('NASDAQ_API_KEY')\n",
        "\n",
        "print(API_KEY)"
      ],
      "outputs": [
        {
          "output_type": "stream",
          "name": "stdout",
          "text": [
            "\n"
          ]
        }
      ],
      "metadata": {
        "colab": {
          "base_uri": "https://localhost:8080/"
        },
        "id": "Up00PR-N5f-J",
        "outputId": "d14f9d81-2767-4f6d-deb6-934027b5b2fe"
      }
    },
    {
      "cell_type": "markdown",
      "source": [
        "Nasdaq Data has a large number of data sources, but, unfortunately, most of them require a Premium subscription. Still, there are also a good number of free datasets."
      ],
      "metadata": {
        "id": "nnqJHHn05f-K"
      }
    },
    {
      "cell_type": "markdown",
      "source": [
        "For this mini project, we will focus on equities data from the Frankfurt Stock Exhange (FSE), which is available for free. We'll try and analyze the stock prices of a company called Carl Zeiss Meditec, which manufactures tools for eye examinations, as well as medical lasers for laser eye surgery: https://www.zeiss.com/meditec/int/home.html. The company is listed under the stock ticker AFX_X."
      ],
      "metadata": {
        "id": "7UkGpF4F5f-K"
      }
    },
    {
      "cell_type": "markdown",
      "source": [
        "You can find the detailed Nasdaq Data API instructions here: https://docs.data.nasdaq.com/docs/in-depth-usage"
      ],
      "metadata": {
        "id": "_TKgT3mx5f-L"
      }
    },
    {
      "cell_type": "markdown",
      "source": [
        "While there is a dedicated Python package for connecting to the Nasdaq API, we would prefer that you use the *requests* package, which can be easily downloaded using *pip* or *conda*. You can find the documentation for the package here: http://docs.python-requests.org/en/master/"
      ],
      "metadata": {
        "id": "ixmN1f2I5f-L"
      }
    },
    {
      "cell_type": "markdown",
      "source": [
        "Finally, apart from the *requests* package, you are encouraged to not use any third party Python packages, such as *pandas*, and instead focus on what's available in the Python Standard Library (the *collections* module might come in handy: https://pymotw.com/3/collections/).\n",
        "Also, since you won't have access to DataFrames, you are encouraged to us Python's native data structures - preferably dictionaries, though some questions can also be answered using lists.\n",
        "You can read more on these data structures here: https://docs.python.org/3/tutorial/datastructures.html"
      ],
      "metadata": {
        "id": "OlVPY4-K5f-L"
      }
    },
    {
      "cell_type": "markdown",
      "source": [
        "Keep in mind that the JSON responses you will be getting from the API map almost one-to-one to Python's dictionaries. Unfortunately, they can be very nested, so make sure you read up on indexing dictionaries in the documentation provided above."
      ],
      "metadata": {
        "id": "xptMtfOO5f-M"
      }
    },
    {
      "cell_type": "code",
      "execution_count": null,
      "source": [
        "# First, import the relevant modules\n",
        "import requests\n",
        "import collections"
      ],
      "outputs": [],
      "metadata": {
        "id": "Mfgittjf5f-M"
      }
    },
    {
      "cell_type": "markdown",
      "source": [
        "Note: API's can change a bit with each version, for this exercise it is reccomended to use the nasdaq api at `https://data.nasdaq.com/api/v3/`. This is the same api as what used to be quandl so `https://www.quandl.com/api/v3/` should work too.\n",
        "\n",
        "Hint: We are looking for the `AFX_X` data on the `datasets/FSE/` dataset."
      ],
      "metadata": {
        "id": "Iu_DDZXZ5f-M"
      }
    },
    {
      "cell_type": "code",
      "execution_count": null,
      "source": [
        "# Now, call the Nasdaq API and pull out a small sample of the data (only one day) to get a glimpse\n",
        "# into the JSON structure that will be returned\n",
        "url = f\"https://data.nasdaq.com/api/v3/datasets/FSE/AFX_X.json?start_date=2020-11-02&end_date=2020-11-03&api_key={API_KEY}\"\n",
        "\n",
        "response = requests.get(url)\n",
        "json_data = response.json()\n",
        "json_data"
      ],
      "outputs": [
        {
          "output_type": "execute_result",
          "data": {
            "text/plain": [
              "{'dataset': {'id': 10095370,\n",
              "  'dataset_code': 'AFX_X',\n",
              "  'database_code': 'FSE',\n",
              "  'name': 'Carl Zeiss Meditec (AFX_X)',\n",
              "  'description': 'Stock Prices for Carl Zeiss Meditec (2020-11-02) from the Frankfurt Stock Exchange.<br><br>Trading System: Xetra<br><br>ISIN: DE0005313704',\n",
              "  'refreshed_at': '2020-12-01T14:48:09.907Z',\n",
              "  'newest_available_date': '2020-12-01',\n",
              "  'oldest_available_date': '2000-06-07',\n",
              "  'column_names': ['Date',\n",
              "   'Open',\n",
              "   'High',\n",
              "   'Low',\n",
              "   'Close',\n",
              "   'Change',\n",
              "   'Traded Volume',\n",
              "   'Turnover',\n",
              "   'Last Price of the Day',\n",
              "   'Daily Traded Units',\n",
              "   'Daily Turnover'],\n",
              "  'frequency': 'daily',\n",
              "  'type': 'Time Series',\n",
              "  'premium': False,\n",
              "  'limit': None,\n",
              "  'transform': None,\n",
              "  'column_index': None,\n",
              "  'start_date': '2020-11-02',\n",
              "  'end_date': '2020-11-03',\n",
              "  'data': [['2020-11-03',\n",
              "    108.4,\n",
              "    110.0,\n",
              "    108.4,\n",
              "    110.0,\n",
              "    None,\n",
              "    176.0,\n",
              "    19259.0,\n",
              "    None,\n",
              "    None,\n",
              "    None],\n",
              "   ['2020-11-02',\n",
              "    111.3,\n",
              "    111.6,\n",
              "    108.1,\n",
              "    108.1,\n",
              "    None,\n",
              "    362.0,\n",
              "    39844.5,\n",
              "    None,\n",
              "    None,\n",
              "    None]],\n",
              "  'collapse': None,\n",
              "  'order': None,\n",
              "  'database_id': 6129}}"
            ]
          },
          "metadata": {},
          "execution_count": 19
        }
      ],
      "metadata": {
        "colab": {
          "base_uri": "https://localhost:8080/"
        },
        "id": "oXmdJpia5f-M",
        "outputId": "0d3ddf57-945f-4d89-8c76-a7c7da1fb293"
      }
    },
    {
      "cell_type": "code",
      "execution_count": null,
      "source": [
        "# Inspect the JSON structure of the object you created, and take note of how nested it is,\n",
        "# as well as the overall structure"
      ],
      "outputs": [
        {
          "output_type": "execute_result",
          "data": {
            "text/plain": [
              "{'dataset': {'id': 10095370,\n",
              "  'dataset_code': 'AFX_X',\n",
              "  'database_code': 'FSE',\n",
              "  'name': 'Carl Zeiss Meditec (AFX_X)',\n",
              "  'description': 'Stock Prices for Carl Zeiss Meditec (2020-11-02) from the Frankfurt Stock Exchange.<br><br>Trading System: Xetra<br><br>ISIN: DE0005313704',\n",
              "  'refreshed_at': '2020-12-01T14:48:09.907Z',\n",
              "  'newest_available_date': '2020-12-01',\n",
              "  'oldest_available_date': '2000-06-07',\n",
              "  'column_names': ['Date',\n",
              "   'Open',\n",
              "   'High',\n",
              "   'Low',\n",
              "   'Close',\n",
              "   'Change',\n",
              "   'Traded Volume',\n",
              "   'Turnover',\n",
              "   'Last Price of the Day',\n",
              "   'Daily Traded Units',\n",
              "   'Daily Turnover'],\n",
              "  'frequency': 'daily',\n",
              "  'type': 'Time Series',\n",
              "  'premium': False,\n",
              "  'limit': None,\n",
              "  'transform': None,\n",
              "  'column_index': None,\n",
              "  'start_date': '2021-01-03',\n",
              "  'end_date': '2020-12-01',\n",
              "  'data': [],\n",
              "  'collapse': None,\n",
              "  'order': None,\n",
              "  'database_id': 6129}}"
            ]
          },
          "metadata": {},
          "execution_count": 4
        }
      ],
      "metadata": {
        "id": "Dh75Ix1J5f-M",
        "outputId": "a2ae5149-d82b-4808-cdee-c0c68d589e54"
      }
    },
    {
      "cell_type": "markdown",
      "source": [
        "These are your tasks for this mini project:\n",
        "\n",
        "1. Collect data from the Franfurt Stock Exchange, for the ticker AFX_X, for the whole year 2017 (keep in mind that the date format is YYYY-MM-DD).\n",
        "2. Convert the returned JSON object into a Python dictionary.\n",
        "3. Calculate what the highest and lowest opening prices were for the stock in this period.\n",
        "4. What was the largest change in any one day (based on High and Low price)?\n",
        "5. What was the largest change between any two days (based on Closing Price)?\n",
        "6. What was the average daily trading volume during this year?\n",
        "7. (Optional) What was the median trading volume during this year. (Note: you may need to implement your own function for calculating the median.)"
      ],
      "metadata": {
        "id": "4k63G-vX5f-N"
      }
    },
    {
      "cell_type": "markdown",
      "source": [
        "1. Collect data from the Franfurt Stock Exchange, for the ticker AFX_X, for the whole year 2017 (keep in mind that the date format is YYYY-MM-DD).\n"
      ],
      "metadata": {
        "id": "OsvJYrPmLQ6q"
      }
    },
    {
      "cell_type": "code",
      "execution_count": null,
      "source": [
        "#1 get 2017 data\n",
        "url = f\"https://data.nasdaq.com/api/v3/datasets/FSE/AFX_X.json?start_date=2017-01-01&end_date=2017-12-31&api_key={API_KEY}\"\n",
        "\n",
        "response = requests.get(url)"
      ],
      "outputs": [],
      "metadata": {
        "id": "QfYZG0Qm5f-N"
      }
    },
    {
      "cell_type": "markdown",
      "source": [
        "2. Convert the returned JSON object into a Python dictionary."
      ],
      "metadata": {
        "id": "kgjLEHR4LR-3"
      }
    },
    {
      "cell_type": "code",
      "source": [
        "#2 convert json into dictionary\n",
        "json_data = response.json()"
      ],
      "metadata": {
        "id": "S7FigQZ4LVtj"
      },
      "execution_count": null,
      "outputs": []
    },
    {
      "cell_type": "code",
      "source": [
        "# build a simpler/better dictionary\n",
        "\n",
        "# Extract the relevant information from the raw dictionary\n",
        "raw_dates_data = json_data['dataset']['data']\n",
        "column_names = json_data['dataset']['column_names']\n",
        "\n",
        "# Create the simplified dictionary\n",
        "df = {}\n",
        "\n",
        "for date_entry in raw_dates_data:\n",
        "    date = date_entry[0]  # Assuming the date is always at index 0\n",
        "    values = {column_names[i]: date_entry[i] for i in range(1, len(date_entry))}\n",
        "\n",
        "    df[date] = values"
      ],
      "metadata": {
        "id": "gHFnUDTBFWR0"
      },
      "execution_count": null,
      "outputs": []
    },
    {
      "cell_type": "markdown",
      "source": [
        "3. Calculate what the highest and lowest opening prices were for the stock in this period."
      ],
      "metadata": {
        "id": "V87mZIPPLOHF"
      }
    },
    {
      "cell_type": "code",
      "execution_count": null,
      "source": [
        "#3a calculate highest/lowest Open prices\n",
        "\n",
        "# Highest\n",
        "highest_open_price = float('-inf')  # Initialize with a very low value\n",
        "highest_open_date = None\n",
        "\n",
        "for date, data in df.items():\n",
        "    open_price = data['Open']\n",
        "\n",
        "    if open_price is not None and open_price > highest_open_price:\n",
        "        highest_open_price = open_price\n",
        "        highest_open_date = date\n",
        "\n",
        "print(\"Highest Open Price:\", highest_open_price)\n",
        "print(\"Date of Highest Open Price:\", highest_open_date)"
      ],
      "outputs": [
        {
          "output_type": "stream",
          "name": "stdout",
          "text": [
            "Highest Open Price: 53.11\n",
            "Date of Highest Open Price: 2017-12-14\n"
          ]
        }
      ],
      "metadata": {
        "colab": {
          "base_uri": "https://localhost:8080/"
        },
        "id": "ISEinJIo5f-N",
        "outputId": "89b4de99-6dae-4543-f883-a9d3d3d45261"
      }
    },
    {
      "cell_type": "code",
      "source": [
        "#3b Lowest\n",
        "\n",
        "lowest_open_price = float('inf')  # Initialize with a very low value\n",
        "lowest_open_date = None\n",
        "\n",
        "for date, data in df.items():\n",
        "    open_price = data['Open']\n",
        "\n",
        "    if open_price is not None and open_price < lowest_open_price:\n",
        "        lowest_open_price = open_price\n",
        "        lowest_open_date = date\n",
        "\n",
        "print(\"Lowest Open Price:\", lowest_open_price)\n",
        "print(\"Date of Lowest Open Price:\", lowest_open_date)"
      ],
      "metadata": {
        "colab": {
          "base_uri": "https://localhost:8080/"
        },
        "id": "8e8qTiylJDSr",
        "outputId": "28dbcf06-29d1-41d7-ac92-f4f1a0aa0dfa"
      },
      "execution_count": null,
      "outputs": [
        {
          "output_type": "stream",
          "name": "stdout",
          "text": [
            "Lowest Open Price: 34.0\n",
            "Date of Lowest Open Price: 2017-01-24\n"
          ]
        }
      ]
    },
    {
      "cell_type": "markdown",
      "source": [
        "4. What was the largest change in any one day (based on High and Low price)?\n"
      ],
      "metadata": {
        "id": "BaiCdTiPKTrT"
      }
    },
    {
      "cell_type": "markdown",
      "source": [
        "**Note**\n",
        "\n",
        "I'm calculating the largest percent and absolute difference as well as the \"Change\" value that's returned, I couldn't figure out what it is exactly but taking note either way."
      ],
      "metadata": {
        "id": "JgLnaKsGMaH_"
      }
    },
    {
      "cell_type": "code",
      "source": [
        "#4 largest change in any one day\n",
        "\n",
        "highest_percentage_diff = 0.0\n",
        "highest_percentage_date = None\n",
        "\n",
        "highest_absolute_diff = 0.0\n",
        "highest_absolute_date = None\n",
        "\n",
        "highest_change = float('-inf')\n",
        "highest_change_date = None\n",
        "\n",
        "for date, data in df.items():\n",
        "    high_price = data['High']\n",
        "    low_price = data['Low']\n",
        "    change = data['Change']\n",
        "\n",
        "    if high_price is not None and low_price is not None:\n",
        "        percentage_diff = abs(high_price - low_price) / low_price * 100.0\n",
        "\n",
        "        if percentage_diff > highest_percentage_diff:\n",
        "            highest_percentage_diff = percentage_diff\n",
        "            highest_percentage_date = date\n",
        "\n",
        "        absolute_diff = abs(high_price - low_price)\n",
        "\n",
        "        if absolute_diff > highest_absolute_diff:\n",
        "            highest_absolute_diff = absolute_diff\n",
        "            highest_absolute_date = date\n",
        "\n",
        "    if change is not None and change > highest_change:\n",
        "        highest_change = change\n",
        "        highest_change_date = date\n",
        "\n",
        "# Print the highest percentage difference and its date\n",
        "print(\"Highest Percentage Difference:\", highest_percentage_diff)\n",
        "print(\"Date of Highest Percentage Difference:\", highest_percentage_date)\n",
        "\n",
        "print('\\n')\n",
        "\n",
        "# Print the highest absolute difference and its date\n",
        "print(\"Highest Absolute Difference:\", highest_absolute_diff)\n",
        "print(\"Date of Highest Absolute Difference:\", highest_absolute_date)\n",
        "\n",
        "print('\\n')\n",
        "\n",
        "# Print the highest change value and its date\n",
        "print(\"Highest Change Value:\", highest_change)\n",
        "print(\"Date of Highest Change Value:\", highest_change_date)"
      ],
      "metadata": {
        "colab": {
          "base_uri": "https://localhost:8080/"
        },
        "id": "ERvmEF5WKbuE",
        "outputId": "99ed049a-387b-4a3c-e0ba-9e93b2584914"
      },
      "execution_count": null,
      "outputs": [
        {
          "output_type": "stream",
          "name": "stdout",
          "text": [
            "Highest Percentage Difference: 6.4971098265896\n",
            "Date of Highest Percentage Difference: 2017-05-11\n",
            "\n",
            "\n",
            "Highest Absolute Difference: 2.8100000000000023\n",
            "Date of Highest Absolute Difference: 2017-05-11\n",
            "\n",
            "\n",
            "Highest Change Value: -0.44\n",
            "Date of Highest Change Value: 2017-05-01\n"
          ]
        }
      ]
    },
    {
      "cell_type": "markdown",
      "source": [
        "5. What was the largest change between any two days (based on Closing Price)?\n"
      ],
      "metadata": {
        "id": "99TDuHkpKY1v"
      }
    },
    {
      "cell_type": "code",
      "source": [
        "#5 largest change between two close prices\n",
        "\n",
        "largest_percentage_diff = 0.0\n",
        "largest_percentage_dates = None\n",
        "\n",
        "largest_absolute_diff = 0.0\n",
        "largest_absolute_dates = None\n",
        "\n",
        "previous_close_price = None\n",
        "\n",
        "for date, data in df.items():\n",
        "    close_price = data['Close']\n",
        "\n",
        "    if close_price is not None:\n",
        "        if previous_close_price is not None:\n",
        "            percentage_diff = abs(close_price - previous_close_price) / previous_close_price * 100.0\n",
        "\n",
        "            if percentage_diff > largest_percentage_diff:\n",
        "                largest_percentage_diff = percentage_diff\n",
        "                largest_percentage_dates = (previous_date, date)\n",
        "\n",
        "            absolute_diff = abs(close_price - previous_close_price)\n",
        "\n",
        "            if absolute_diff > largest_absolute_diff:\n",
        "                largest_absolute_diff = absolute_diff\n",
        "                largest_absolute_dates = (previous_date, date)\n",
        "\n",
        "        previous_close_price = close_price\n",
        "        previous_date = date\n",
        "\n",
        "# Print the largest percentage difference and its dates\n",
        "print(\"Largest Percentage Difference:\", largest_percentage_diff)\n",
        "print(\"Dates of Largest Percentage Difference:\", largest_percentage_dates)\n",
        "\n",
        "print('\\n')\n",
        "\n",
        "# Print the largest absolute difference and its dates\n",
        "print(\"Largest Absolute Difference:\", largest_absolute_diff)\n",
        "print(\"Dates of Largest Absolute Difference:\", largest_absolute_dates)"
      ],
      "metadata": {
        "colab": {
          "base_uri": "https://localhost:8080/"
        },
        "id": "w4egHmWBMyVN",
        "outputId": "3a87023c-d11b-4a3f-a996-7f4ccd96c5e3"
      },
      "execution_count": null,
      "outputs": [
        {
          "output_type": "stream",
          "name": "stdout",
          "text": [
            "Largest Percentage Difference: 6.122937096388411\n",
            "Dates of Largest Percentage Difference: ('2017-08-09', '2017-08-08')\n",
            "\n",
            "\n",
            "Largest Absolute Difference: 2.559999999999995\n",
            "Dates of Largest Absolute Difference: ('2017-08-09', '2017-08-08')\n"
          ]
        }
      ]
    },
    {
      "cell_type": "markdown",
      "source": [
        "6. What was the average daily trading volume during this year?\n"
      ],
      "metadata": {
        "id": "vX3pH__pKaIX"
      }
    },
    {
      "cell_type": "code",
      "source": [
        "#6 average daily trading volume\n",
        "\n",
        "'Traded Volume'\n",
        "\n",
        "volumes = [i['Traded Volume'] for i in df.values()]\n",
        "\n",
        "print('The average daily trading volume was: ')\n",
        "print(sum(volumes) / len(volumes))"
      ],
      "metadata": {
        "colab": {
          "base_uri": "https://localhost:8080/"
        },
        "id": "DIVhITsDM22r",
        "outputId": "169f9873-eb41-4670-9bba-220d1a068ef9"
      },
      "execution_count": null,
      "outputs": [
        {
          "output_type": "stream",
          "name": "stdout",
          "text": [
            "The average daily trading volume was: \n"
          ]
        },
        {
          "output_type": "execute_result",
          "data": {
            "text/plain": [
              "89124.33725490196"
            ]
          },
          "metadata": {},
          "execution_count": 48
        }
      ]
    },
    {
      "cell_type": "markdown",
      "source": [
        "7. (Optional) What was the median trading volume during this year. (Note: you may need to implement your own function for calculating the median.)"
      ],
      "metadata": {
        "id": "FGxz5xQmKa8D"
      }
    },
    {
      "cell_type": "markdown",
      "source": [
        "I consulted [Geeks for geeks](https://www.geeksforgeeks.org/find-median-of-list-in-python/) and [stack overflow](https://stackoverflow.com/questions/24101524/finding-median-of-list-in-python) for a quick way to calculate the median of a list, hope that's ok."
      ],
      "metadata": {
        "id": "VsQRXoOmPC_D"
      }
    },
    {
      "cell_type": "code",
      "source": [
        "#7 median trading volume\n",
        "\n",
        "volumes.sort()\n",
        "mid = len(volumes) // 2\n",
        "res = (volumes[mid] + volumes[~mid]) / 2\n",
        "\n",
        "print('The median daily trading volume was: ')\n",
        "print(res)"
      ],
      "metadata": {
        "colab": {
          "base_uri": "https://localhost:8080/"
        },
        "id": "8WODD9PnM56R",
        "outputId": "b86dea7a-a93e-4761-ad67-2f3d7f990186"
      },
      "execution_count": null,
      "outputs": [
        {
          "output_type": "stream",
          "name": "stdout",
          "text": [
            "The median daily trading volume was: \n",
            "76286.0\n"
          ]
        }
      ]
    }
  ],
  "metadata": {
    "kernelspec": {
      "name": "python3",
      "display_name": "Python 3.8.1 64-bit ('dsc_v5_solutions-7Q1D_Dt-': venv)"
    },
    "language_info": {
      "codemirror_mode": {
        "name": "ipython",
        "version": 3
      },
      "file_extension": ".py",
      "mimetype": "text/x-python",
      "name": "python",
      "nbconvert_exporter": "python",
      "pygments_lexer": "ipython3",
      "version": "3.8.1"
    },
    "interpreter": {
      "hash": "7635eb1b9d0fe97add78a7368b6b431c09bb8ad5c42e437d64abdd99821c31ae"
    },
    "colab": {
      "provenance": []
    }
  },
  "nbformat": 4,
  "nbformat_minor": 0
}